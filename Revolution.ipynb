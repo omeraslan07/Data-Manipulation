{
 "cells": [
  {
   "cell_type": "markdown",
   "id": "51c9fb86",
   "metadata": {},
   "source": [
    "# NumPy"
   ]
  },
  {
   "cell_type": "markdown",
   "id": "fe1741b7",
   "metadata": {},
   "source": [
    "Why NumPy ? \n",
    "\n",
    "* Numpy arrays supports only single data type per array while python's standard arrays can contain every type in one array. If a standard python array contains 20 data, it has 20 info for data types of each data while numpy has only one. This makes NumPy 20 times faster in this case."
   ]
  },
  {
   "cell_type": "markdown",
   "id": "7b290c2a",
   "metadata": {},
   "source": [
    "## Specs of Numpy Arrays"
   ]
  },
  {
   "cell_type": "markdown",
   "id": "ae8c0147",
   "metadata": {},
   "source": [
    "* ndim: dimension quantity\n",
    "* shape: dimension info like 4x5, 7x2 etc.\n",
    "* size: total item quanitity\n",
    "* dtype: arrays data type"
   ]
  },
  {
   "cell_type": "code",
   "execution_count": 33,
   "id": "e7e5b3c7",
   "metadata": {},
   "outputs": [
    {
     "data": {
      "text/plain": [
       "array([[8, 9, 9, 9, 1],\n",
       "       [1, 5, 1, 1, 6],\n",
       "       [2, 2, 8, 8, 7],\n",
       "       [0, 3, 7, 5, 8]])"
      ]
     },
     "execution_count": 33,
     "metadata": {},
     "output_type": "execute_result"
    }
   ],
   "source": [
    "a = np.random.randint(10, size=(4,5))\n",
    "a"
   ]
  },
  {
   "cell_type": "code",
   "execution_count": 34,
   "id": "98e34b84",
   "metadata": {
    "scrolled": true
   },
   "outputs": [
    {
     "data": {
      "text/plain": [
       "2"
      ]
     },
     "execution_count": 34,
     "metadata": {},
     "output_type": "execute_result"
    }
   ],
   "source": [
    "a.ndim # 2D array"
   ]
  },
  {
   "cell_type": "code",
   "execution_count": 36,
   "id": "218c4708",
   "metadata": {},
   "outputs": [
    {
     "data": {
      "text/plain": [
       "(4, 5)"
      ]
     },
     "execution_count": 36,
     "metadata": {},
     "output_type": "execute_result"
    }
   ],
   "source": [
    "a.shape # 2D 4x5 array"
   ]
  },
  {
   "cell_type": "code",
   "execution_count": 38,
   "id": "5487af4d",
   "metadata": {},
   "outputs": [
    {
     "data": {
      "text/plain": [
       "20"
      ]
     },
     "execution_count": 38,
     "metadata": {},
     "output_type": "execute_result"
    }
   ],
   "source": [
    "a.size # Total item quantity"
   ]
  },
  {
   "cell_type": "markdown",
   "id": "21679903",
   "metadata": {},
   "source": [
    "## Creating numpy array"
   ]
  },
  {
   "cell_type": "code",
   "execution_count": 23,
   "id": "f1053834",
   "metadata": {},
   "outputs": [
    {
     "data": {
      "text/plain": [
       "array([1, 2, 3, 4, 5])"
      ]
     },
     "execution_count": 23,
     "metadata": {},
     "output_type": "execute_result"
    }
   ],
   "source": [
    "import numpy as np\n",
    "\n",
    "np.array([1,2,3,4,5])"
   ]
  },
  {
   "cell_type": "code",
   "execution_count": 2,
   "id": "f745f302",
   "metadata": {},
   "outputs": [
    {
     "data": {
      "text/plain": [
       "numpy.ndarray"
      ]
     },
     "execution_count": 2,
     "metadata": {},
     "output_type": "execute_result"
    }
   ],
   "source": [
    "a = np.array([1,2,3,4,5])\n",
    "type(a)"
   ]
  },
  {
   "cell_type": "code",
   "execution_count": 3,
   "id": "8137cca3",
   "metadata": {},
   "outputs": [
    {
     "data": {
      "text/plain": [
       "array([ 3.14,  5.  ,  9.  , 24.  ])"
      ]
     },
     "execution_count": 3,
     "metadata": {},
     "output_type": "execute_result"
    }
   ],
   "source": [
    "np.array([3.14, 5, 9, 24])\n",
    "# Since numpy arrays support only one type, all numbers are decimal"
   ]
  },
  {
   "cell_type": "code",
   "execution_count": 5,
   "id": "88c1f7e3",
   "metadata": {},
   "outputs": [
    {
     "data": {
      "text/plain": [
       "array([ 5, 92, 33, 17])"
      ]
     },
     "execution_count": 5,
     "metadata": {},
     "output_type": "execute_result"
    }
   ],
   "source": [
    "np.array([5.875, 92, 33, 17], dtype=\"int\")\n",
    "# Since we declared the type, all numbers turned into int"
   ]
  },
  {
   "cell_type": "markdown",
   "id": "0c37cf4f",
   "metadata": {},
   "source": [
    "### Creating filled arrays from scratch\n",
    "\n",
    "* np.arange(start, stop, evenly space by x)\n",
    "* np.linspace(start, stop, how many numbers you want)"
   ]
  },
  {
   "cell_type": "code",
   "execution_count": 9,
   "id": "03c86621",
   "metadata": {},
   "outputs": [
    {
     "data": {
      "text/plain": [
       "array([0, 0, 0, 0, 0, 0, 0, 0, 0, 0])"
      ]
     },
     "execution_count": 9,
     "metadata": {},
     "output_type": "execute_result"
    }
   ],
   "source": [
    "np.zeros(10, dtype=\"int\") # Create 1D array with 10 zeros."
   ]
  },
  {
   "cell_type": "code",
   "execution_count": 12,
   "id": "7da7b669",
   "metadata": {},
   "outputs": [
    {
     "data": {
      "text/plain": [
       "array([[16, 16, 16, 16, 16, 16, 16, 16],\n",
       "       [16, 16, 16, 16, 16, 16, 16, 16],\n",
       "       [16, 16, 16, 16, 16, 16, 16, 16],\n",
       "       [16, 16, 16, 16, 16, 16, 16, 16]])"
      ]
     },
     "execution_count": 12,
     "metadata": {},
     "output_type": "execute_result"
    }
   ],
   "source": [
    "np.full((4,8), 16) # Create 4x8 array with 16's"
   ]
  },
  {
   "cell_type": "code",
   "execution_count": 17,
   "id": "befe6e1d",
   "metadata": {},
   "outputs": [
    {
     "data": {
      "text/plain": [
       "array([ 0,  5, 10, 15, 20, 25, 30, 35])"
      ]
     },
     "execution_count": 17,
     "metadata": {},
     "output_type": "execute_result"
    }
   ],
   "source": [
    "np.arange(0,36, 5) # Create an array from the numbers between 0-36 evenly spaced 5 by 5"
   ]
  },
  {
   "cell_type": "code",
   "execution_count": 20,
   "id": "7833a6c8",
   "metadata": {},
   "outputs": [
    {
     "data": {
      "text/plain": [
       "array([ 0,  5, 10, 15, 20, 25, 30, 35])"
      ]
     },
     "execution_count": 20,
     "metadata": {},
     "output_type": "execute_result"
    }
   ],
   "source": [
    "np.linspace(0,35, 8, dtype=\"int\") # Create an array contains evenly spaced 8 number between 0,35"
   ]
  },
  {
   "cell_type": "code",
   "execution_count": 22,
   "id": "9046eb73",
   "metadata": {},
   "outputs": [
    {
     "data": {
      "text/plain": [
       "array([[3, 9, 8],\n",
       "       [8, 1, 8],\n",
       "       [3, 9, 5]])"
      ]
     },
     "execution_count": 22,
     "metadata": {},
     "output_type": "execute_result"
    }
   ],
   "source": [
    "np.random.randint(0,10, (3,3)) # Create an 3x3 array contains random numbers between 0,10"
   ]
  },
  {
   "cell_type": "markdown",
   "id": "d410ee54",
   "metadata": {},
   "source": [
    "## Reshaping arrays"
   ]
  },
  {
   "cell_type": "code",
   "execution_count": 39,
   "id": "e9bf8183",
   "metadata": {},
   "outputs": [
    {
     "data": {
      "text/plain": [
       "array([1, 2, 3, 4, 5, 6, 7, 8, 9])"
      ]
     },
     "execution_count": 39,
     "metadata": {},
     "output_type": "execute_result"
    }
   ],
   "source": [
    "import numpy as np\n",
    "\n",
    "np.arange(1,10)"
   ]
  },
  {
   "cell_type": "code",
   "execution_count": 40,
   "id": "374c0a18",
   "metadata": {},
   "outputs": [
    {
     "data": {
      "text/plain": [
       "array([[1, 2, 3],\n",
       "       [4, 5, 6],\n",
       "       [7, 8, 9]])"
      ]
     },
     "execution_count": 40,
     "metadata": {},
     "output_type": "execute_result"
    }
   ],
   "source": [
    "np.arange(1,10).reshape((3,3))"
   ]
  },
  {
   "cell_type": "code",
   "execution_count": 41,
   "id": "bdbd440c",
   "metadata": {},
   "outputs": [
    {
     "data": {
      "text/plain": [
       "array([1, 2, 3, 4])"
      ]
     },
     "execution_count": 41,
     "metadata": {},
     "output_type": "execute_result"
    }
   ],
   "source": [
    "a = np.arange(1,5)\n",
    "a"
   ]
  },
  {
   "cell_type": "code",
   "execution_count": 42,
   "id": "756bd7cc",
   "metadata": {},
   "outputs": [
    {
     "data": {
      "text/plain": [
       "1"
      ]
     },
     "execution_count": 42,
     "metadata": {},
     "output_type": "execute_result"
    }
   ],
   "source": [
    "a.ndim"
   ]
  },
  {
   "cell_type": "code",
   "execution_count": 44,
   "id": "7191f1a8",
   "metadata": {},
   "outputs": [
    {
     "data": {
      "text/plain": [
       "array([[1, 2, 3, 4]])"
      ]
     },
     "execution_count": 44,
     "metadata": {},
     "output_type": "execute_result"
    }
   ],
   "source": [
    "b = a.reshape((1,4))\n",
    "b"
   ]
  },
  {
   "cell_type": "code",
   "execution_count": 46,
   "id": "618323e0",
   "metadata": {},
   "outputs": [
    {
     "data": {
      "text/plain": [
       "2"
      ]
     },
     "execution_count": 46,
     "metadata": {},
     "output_type": "execute_result"
    }
   ],
   "source": [
    "b.ndim # While content staying same, we can change dimension quantity"
   ]
  },
  {
   "cell_type": "markdown",
   "id": "f73244f2",
   "metadata": {},
   "source": [
    "## Array Concatenation\n",
    "\n",
    "* np.concatenate((a1, a2, ...), axis=0, out=None, dtype=None, casting=\"same_kind\")"
   ]
  },
  {
   "cell_type": "code",
   "execution_count": 14,
   "id": "dc9f815d",
   "metadata": {},
   "outputs": [
    {
     "data": {
      "text/plain": [
       "array([1, 2, 3, 4, 5, 6])"
      ]
     },
     "execution_count": 14,
     "metadata": {},
     "output_type": "execute_result"
    }
   ],
   "source": [
    "import numpy as np\n",
    "\n",
    "x = np.array([1,2,3])\n",
    "y = np.array([4,5,6])\n",
    "\n",
    "np.concatenate((x,y))"
   ]
  },
  {
   "cell_type": "markdown",
   "id": "e8bc72ca",
   "metadata": {},
   "source": [
    "### 2D Concatenation"
   ]
  },
  {
   "cell_type": "code",
   "execution_count": 24,
   "id": "47e50707",
   "metadata": {},
   "outputs": [
    {
     "data": {
      "text/plain": [
       "array([[1, 2, 3],\n",
       "       [4, 5, 6],\n",
       "       [1, 2, 3],\n",
       "       [4, 5, 6]])"
      ]
     },
     "execution_count": 24,
     "metadata": {},
     "output_type": "execute_result"
    }
   ],
   "source": [
    "x = np.array([[1,2,3],\n",
    "              [4,5,6]])\n",
    "\n",
    "np.concatenate((x,x), axis=0)"
   ]
  },
  {
   "cell_type": "code",
   "execution_count": 25,
   "id": "7808dd7e",
   "metadata": {},
   "outputs": [
    {
     "data": {
      "text/plain": [
       "array([[1, 2, 3, 1, 2, 3],\n",
       "       [4, 5, 6, 4, 5, 6]])"
      ]
     },
     "execution_count": 25,
     "metadata": {},
     "output_type": "execute_result"
    }
   ],
   "source": [
    "x = np.array([[1,2,3],\n",
    "              [4,5,6]])\n",
    "\n",
    "np.concatenate((x,x), axis=1)"
   ]
  },
  {
   "cell_type": "markdown",
   "id": "02537d7e",
   "metadata": {},
   "source": [
    "## Array Splitting\n",
    "\n",
    "* np.split(array, SectionsOrIndexesThatWillSplit, axis=0)\n",
    "* np.hsplit(array, SectionsOrIndexesThatWillSplit) horizantally-column based\n",
    "* np.vsplit(array, SectionsOrIndexesThatWillSplit) vertically-row based"
   ]
  },
  {
   "cell_type": "code",
   "execution_count": 26,
   "id": "5e458cf9",
   "metadata": {},
   "outputs": [
    {
     "data": {
      "text/plain": [
       "[array([1, 2, 3]), array([99, 99]), array([4, 5, 6])]"
      ]
     },
     "execution_count": 26,
     "metadata": {},
     "output_type": "execute_result"
    }
   ],
   "source": [
    "import numpy as np\n",
    "\n",
    "x = np.array([1,2,3,99,99,4,5,6])\n",
    "\n",
    "np.split(x, [3,5]) # 0 to 3 then, 3 to 5, then 5 to the end"
   ]
  },
  {
   "cell_type": "code",
   "execution_count": 27,
   "id": "f3535275",
   "metadata": {},
   "outputs": [],
   "source": [
    "a,b,c = np.split(x, [3,5]) # 0 to 3 then, 3 to 5, then 5 to the end"
   ]
  },
  {
   "cell_type": "code",
   "execution_count": 28,
   "id": "cb3d06df",
   "metadata": {},
   "outputs": [
    {
     "data": {
      "text/plain": [
       "array([1, 2, 3])"
      ]
     },
     "execution_count": 28,
     "metadata": {},
     "output_type": "execute_result"
    }
   ],
   "source": [
    "a"
   ]
  },
  {
   "cell_type": "code",
   "execution_count": 29,
   "id": "69849697",
   "metadata": {},
   "outputs": [
    {
     "data": {
      "text/plain": [
       "array([99, 99])"
      ]
     },
     "execution_count": 29,
     "metadata": {},
     "output_type": "execute_result"
    }
   ],
   "source": [
    "b"
   ]
  },
  {
   "cell_type": "code",
   "execution_count": 30,
   "id": "93ceb7ed",
   "metadata": {},
   "outputs": [
    {
     "data": {
      "text/plain": [
       "array([4, 5, 6])"
      ]
     },
     "execution_count": 30,
     "metadata": {},
     "output_type": "execute_result"
    }
   ],
   "source": [
    "c"
   ]
  },
  {
   "cell_type": "markdown",
   "id": "b27688db",
   "metadata": {},
   "source": [
    "### 2D Splitting"
   ]
  },
  {
   "cell_type": "code",
   "execution_count": 31,
   "id": "fb8df32e",
   "metadata": {},
   "outputs": [
    {
     "data": {
      "text/plain": [
       "array([[ 0,  1,  2,  3],\n",
       "       [ 4,  5,  6,  7],\n",
       "       [ 8,  9, 10, 11],\n",
       "       [12, 13, 14, 15]])"
      ]
     },
     "execution_count": 31,
     "metadata": {},
     "output_type": "execute_result"
    }
   ],
   "source": [
    "a = np.arange(16).reshape((4,4))\n",
    "a"
   ]
  },
  {
   "cell_type": "code",
   "execution_count": 32,
   "id": "2f497b20",
   "metadata": {},
   "outputs": [
    {
     "data": {
      "text/plain": [
       "[array([[ 0,  1],\n",
       "        [ 4,  5],\n",
       "        [ 8,  9],\n",
       "        [12, 13]]),\n",
       " array([[ 2,  3],\n",
       "        [ 6,  7],\n",
       "        [10, 11],\n",
       "        [14, 15]])]"
      ]
     },
     "execution_count": 32,
     "metadata": {},
     "output_type": "execute_result"
    }
   ],
   "source": [
    "np.hsplit(a, [2])"
   ]
  },
  {
   "cell_type": "code",
   "execution_count": 34,
   "id": "3e6c6afc",
   "metadata": {},
   "outputs": [
    {
     "data": {
      "text/plain": [
       "[array([[0, 1, 2, 3],\n",
       "        [4, 5, 6, 7]]),\n",
       " array([[ 8,  9, 10, 11],\n",
       "        [12, 13, 14, 15]])]"
      ]
     },
     "execution_count": 34,
     "metadata": {},
     "output_type": "execute_result"
    }
   ],
   "source": [
    "np.vsplit(a, [2])"
   ]
  },
  {
   "cell_type": "markdown",
   "id": "ebeba811",
   "metadata": {},
   "source": [
    "## Sorting\n",
    "\n",
    "* np.sort(array, axis = -1, kind=None, order=None)\n",
    "* kind{‘quicksort’, ‘mergesort’, ‘heapsort’, ‘stable’}, optional\n",
    "\n",
    "* \"mergesort\" is quick and stable since it's bigO notation is O(n*log(n))\n",
    "* \"heapsort\" is fastest but not stable"
   ]
  },
  {
   "cell_type": "code",
   "execution_count": 37,
   "id": "2531d9dd",
   "metadata": {},
   "outputs": [
    {
     "data": {
      "text/plain": [
       "array([ 3,  5,  8, 12, 27])"
      ]
     },
     "execution_count": 37,
     "metadata": {},
     "output_type": "execute_result"
    }
   ],
   "source": [
    "import numpy as np\n",
    "\n",
    "a = np.array([3,27,8,5,12])\n",
    "\n",
    "np.sort(a, kind=\"mergesort\")"
   ]
  },
  {
   "cell_type": "markdown",
   "id": "7b704162",
   "metadata": {},
   "source": [
    "### 2D sorting"
   ]
  },
  {
   "cell_type": "code",
   "execution_count": 40,
   "id": "c1854086",
   "metadata": {},
   "outputs": [
    {
     "data": {
      "text/plain": [
       "array([[4, 4, 0, 9, 1],\n",
       "       [6, 6, 4, 6, 3],\n",
       "       [1, 3, 1, 2, 9],\n",
       "       [0, 6, 9, 7, 3]])"
      ]
     },
     "execution_count": 40,
     "metadata": {},
     "output_type": "execute_result"
    }
   ],
   "source": [
    "a = np.random.randint(10, size=(4,5))\n",
    "a"
   ]
  },
  {
   "cell_type": "code",
   "execution_count": 41,
   "id": "708e9c65",
   "metadata": {},
   "outputs": [
    {
     "data": {
      "text/plain": [
       "array([[0, 3, 0, 2, 1],\n",
       "       [1, 4, 1, 6, 3],\n",
       "       [4, 6, 4, 7, 3],\n",
       "       [6, 6, 9, 9, 9]])"
      ]
     },
     "execution_count": 41,
     "metadata": {},
     "output_type": "execute_result"
    }
   ],
   "source": [
    "np.sort(a, axis=0) # Sorted each column"
   ]
  },
  {
   "cell_type": "code",
   "execution_count": 43,
   "id": "34a1f514",
   "metadata": {},
   "outputs": [
    {
     "data": {
      "text/plain": [
       "array([[0, 1, 4, 4, 9],\n",
       "       [3, 4, 6, 6, 6],\n",
       "       [1, 1, 2, 3, 9],\n",
       "       [0, 3, 6, 7, 9]])"
      ]
     },
     "execution_count": 43,
     "metadata": {},
     "output_type": "execute_result"
    }
   ],
   "source": [
    "np.sort(a, axis=1) # Sorted each row"
   ]
  },
  {
   "cell_type": "markdown",
   "id": "a1c29972",
   "metadata": {},
   "source": [
    "# Indexing & Accessing"
   ]
  },
  {
   "cell_type": "code",
   "execution_count": null,
   "id": "129ec384",
   "metadata": {},
   "outputs": [],
   "source": []
  }
 ],
 "metadata": {
  "kernelspec": {
   "display_name": "Python 3",
   "language": "python",
   "name": "python3"
  },
  "language_info": {
   "codemirror_mode": {
    "name": "ipython",
    "version": 3
   },
   "file_extension": ".py",
   "mimetype": "text/x-python",
   "name": "python",
   "nbconvert_exporter": "python",
   "pygments_lexer": "ipython3",
   "version": "3.8.8"
  }
 },
 "nbformat": 4,
 "nbformat_minor": 5
}
